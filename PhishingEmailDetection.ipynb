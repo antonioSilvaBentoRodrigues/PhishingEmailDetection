{
 "cells": [
  {
   "cell_type": "code",
   "execution_count": 46,
   "id": "c0a771b9-960e-4e0b-ba68-7bf146d4e001",
   "metadata": {},
   "outputs": [],
   "source": [
    "import opendatasets as od\n",
    "import os\n",
    "import random\n",
    "import pandas as pd\n",
    "import numpy as np\n",
    "from sklearn.model_selection import train_test_split\n",
    "from sklearn.feature_extraction.text import TfidfVectorizer\n",
    "from sklearn.pipeline import Pipeline\n",
    "from sklearn.naive_bayes import MultinomialNB\n",
    "from sklearn.metrics import classification_report\n",
    "from yellowbrick.classifier import ConfusionMatrix\n",
    "import seaborn as sns"
   ]
  },
  {
   "cell_type": "markdown",
   "id": "c9a571cb-6270-4210-b3aa-756e486ee206",
   "metadata": {},
   "source": [
    "# Download dataset"
   ]
  },
  {
   "cell_type": "code",
   "execution_count": null,
   "id": "38c56387-00b4-4fba-bf25-38773c7f5715",
   "metadata": {},
   "outputs": [],
   "source": [
    "od.download(\"https://www.kaggle.com/datasets/naserabdullahalam/phishing-email-dataset\")"
   ]
  },
  {
   "cell_type": "code",
   "execution_count": 48,
   "id": "d02e5e8d-300b-4360-8531-d7b73191a79f",
   "metadata": {},
   "outputs": [
    {
     "data": {
      "text/plain": [
       "['CEAS_08.csv',\n",
       " 'Enron.csv',\n",
       " 'Ling.csv',\n",
       " 'Nazario.csv',\n",
       " 'Nigerian_Fraud.csv',\n",
       " 'phishing_email.csv',\n",
       " 'SpamAssasin.csv']"
      ]
     },
     "execution_count": 48,
     "metadata": {},
     "output_type": "execute_result"
    }
   ],
   "source": [
    "# List files inside data folder\n",
    "target_dir = '.\\phishing-email-dataset'\n",
    "os.listdir(target_dir)"
   ]
  },
  {
   "cell_type": "code",
   "execution_count": 49,
   "id": "7a40ffd0-ae3d-4697-a552-a52a096c6fdb",
   "metadata": {},
   "outputs": [],
   "source": [
    "# load csv file into pandas DataFrame\n",
    "target_file = os.path.join(target_dir,os.listdir(target_dir)[5])\n",
    "phishing_email_df = pd.read_csv(target_file)"
   ]
  },
  {
   "cell_type": "markdown",
   "id": "3971d4d9-a721-4e94-a4df-8450071747d6",
   "metadata": {},
   "source": [
    "# Getting one with the data"
   ]
  },
  {
   "cell_type": "code",
   "execution_count": 50,
   "id": "0232c175-79d4-442e-a7de-b3875d21b325",
   "metadata": {},
   "outputs": [
    {
     "name": "stdout",
     "output_type": "stream",
     "text": [
      "<class 'pandas.core.frame.DataFrame'>\n",
      "RangeIndex: 82486 entries, 0 to 82485\n",
      "Data columns (total 2 columns):\n",
      " #   Column         Non-Null Count  Dtype \n",
      "---  ------         --------------  ----- \n",
      " 0   text_combined  82486 non-null  object\n",
      " 1   label          82486 non-null  int64 \n",
      "dtypes: int64(1), object(1)\n",
      "memory usage: 1.3+ MB\n"
     ]
    }
   ],
   "source": [
    "# Visualize some dataframe information\n",
    "phishing_email_df.info()"
   ]
  },
  {
   "cell_type": "code",
   "execution_count": 51,
   "id": "46eadd85-b2de-4f9f-93d1-3adf5182c178",
   "metadata": {},
   "outputs": [
    {
     "data": {
      "text/html": [
       "<div>\n",
       "<style scoped>\n",
       "    .dataframe tbody tr th:only-of-type {\n",
       "        vertical-align: middle;\n",
       "    }\n",
       "\n",
       "    .dataframe tbody tr th {\n",
       "        vertical-align: top;\n",
       "    }\n",
       "\n",
       "    .dataframe thead th {\n",
       "        text-align: right;\n",
       "    }\n",
       "</style>\n",
       "<table border=\"1\" class=\"dataframe\">\n",
       "  <thead>\n",
       "    <tr style=\"text-align: right;\">\n",
       "      <th></th>\n",
       "      <th>text_combined</th>\n",
       "      <th>label</th>\n",
       "    </tr>\n",
       "  </thead>\n",
       "  <tbody>\n",
       "    <tr>\n",
       "      <th>0</th>\n",
       "      <td>hpl nom may 25 2001 see attached file hplno 52...</td>\n",
       "      <td>0</td>\n",
       "    </tr>\n",
       "    <tr>\n",
       "      <th>1</th>\n",
       "      <td>nom actual vols 24 th forwarded sabrae zajac h...</td>\n",
       "      <td>0</td>\n",
       "    </tr>\n",
       "    <tr>\n",
       "      <th>2</th>\n",
       "      <td>enron actuals march 30 april 1 201 estimated a...</td>\n",
       "      <td>0</td>\n",
       "    </tr>\n",
       "    <tr>\n",
       "      <th>3</th>\n",
       "      <td>hpl nom may 30 2001 see attached file hplno 53...</td>\n",
       "      <td>0</td>\n",
       "    </tr>\n",
       "    <tr>\n",
       "      <th>4</th>\n",
       "      <td>hpl nom june 1 2001 see attached file hplno 60...</td>\n",
       "      <td>0</td>\n",
       "    </tr>\n",
       "  </tbody>\n",
       "</table>\n",
       "</div>"
      ],
      "text/plain": [
       "                                       text_combined  label\n",
       "0  hpl nom may 25 2001 see attached file hplno 52...      0\n",
       "1  nom actual vols 24 th forwarded sabrae zajac h...      0\n",
       "2  enron actuals march 30 april 1 201 estimated a...      0\n",
       "3  hpl nom may 30 2001 see attached file hplno 53...      0\n",
       "4  hpl nom june 1 2001 see attached file hplno 60...      0"
      ]
     },
     "execution_count": 51,
     "metadata": {},
     "output_type": "execute_result"
    }
   ],
   "source": [
    "# Visualize first five samples\n",
    "phishing_email_df.head()"
   ]
  },
  {
   "cell_type": "code",
   "execution_count": 52,
   "id": "67e5dfb3-e2f4-46d7-a481-475d7fe21c5a",
   "metadata": {},
   "outputs": [
    {
     "data": {
      "text/html": [
       "<div>\n",
       "<style scoped>\n",
       "    .dataframe tbody tr th:only-of-type {\n",
       "        vertical-align: middle;\n",
       "    }\n",
       "\n",
       "    .dataframe tbody tr th {\n",
       "        vertical-align: top;\n",
       "    }\n",
       "\n",
       "    .dataframe thead th {\n",
       "        text-align: right;\n",
       "    }\n",
       "</style>\n",
       "<table border=\"1\" class=\"dataframe\">\n",
       "  <thead>\n",
       "    <tr style=\"text-align: right;\">\n",
       "      <th></th>\n",
       "      <th>text_combined</th>\n",
       "      <th>label</th>\n",
       "    </tr>\n",
       "  </thead>\n",
       "  <tbody>\n",
       "    <tr>\n",
       "      <th>82481</th>\n",
       "      <td>info advantageapartmentscom infoadvantageapart...</td>\n",
       "      <td>1</td>\n",
       "    </tr>\n",
       "    <tr>\n",
       "      <th>82482</th>\n",
       "      <td>monkeyorg helpdeskmonkeyorg monkeyorg hi josep...</td>\n",
       "      <td>1</td>\n",
       "    </tr>\n",
       "    <tr>\n",
       "      <th>82483</th>\n",
       "      <td>help center infohelpcentercoza_infohelpcenterc...</td>\n",
       "      <td>1</td>\n",
       "    </tr>\n",
       "    <tr>\n",
       "      <th>82484</th>\n",
       "      <td>metamask infosofamekarcom verify metamask wall...</td>\n",
       "      <td>1</td>\n",
       "    </tr>\n",
       "    <tr>\n",
       "      <th>82485</th>\n",
       "      <td>fastway infofastwaycoza_infofastwaycoza_infofa...</td>\n",
       "      <td>1</td>\n",
       "    </tr>\n",
       "  </tbody>\n",
       "</table>\n",
       "</div>"
      ],
      "text/plain": [
       "                                           text_combined  label\n",
       "82481  info advantageapartmentscom infoadvantageapart...      1\n",
       "82482  monkeyorg helpdeskmonkeyorg monkeyorg hi josep...      1\n",
       "82483  help center infohelpcentercoza_infohelpcenterc...      1\n",
       "82484  metamask infosofamekarcom verify metamask wall...      1\n",
       "82485  fastway infofastwaycoza_infofastwaycoza_infofa...      1"
      ]
     },
     "execution_count": 52,
     "metadata": {},
     "output_type": "execute_result"
    }
   ],
   "source": [
    "# Visualize last five samples\n",
    "phishing_email_df.tail()"
   ]
  },
  {
   "cell_type": "code",
   "execution_count": 53,
   "id": "9e65031d-5bb5-4879-9d2e-4c8334e9f9a9",
   "metadata": {},
   "outputs": [],
   "source": [
    "# Reading through dataset documentation we now that we have 42,891 spam emails , so we can assume that the value 1 is spam in categorical form"
   ]
  },
  {
   "cell_type": "code",
   "execution_count": 54,
   "id": "174536cf-7662-4787-a774-6c2470cd0afe",
   "metadata": {},
   "outputs": [
    {
     "data": {
      "image/png": "[encoded data removed]",
      "text/plain": [
       "<Figure size 800x550 with 1 Axes>"
      ]
     },
     "metadata": {},
     "output_type": "display_data"
    }
   ],
   "source": [
    "# Visualize class balance\n",
    "sns.countplot(x=phishing_email_df.label);"
   ]
  },
  {
   "cell_type": "code",
   "execution_count": 55,
   "id": "9f8a8a97-3754-4b6d-91de-7e91b4cd948c",
   "metadata": {},
   "outputs": [
    {
     "name": "stdout",
     "output_type": "stream",
     "text": [
      "Label:1 (Spam email)\n",
      "Text:mail report ordersvoyageairguitarcom r2064o60nced1t0ds5510b37002 cd81cd0y3a1aa8v84 josemonkeyorg 10b37hc0m4br30d1t0ds55g0dra1v68n0a002 0cd906fcf4g00u3550aenf6v84w83w3eaenf6b16y31259301vf4f3e510b37ab3bk62002 y82g9co60f3e7edo7fu28a8v84u3550aenf610b37002 sb0w28oc0m3b le8a0f1an0do5cvde94k64m886f002a8v8410b3706abncee70c6e93n2dsd73b002 81ff4e39a8e36r3089q6866t4a002pb9qfbd9cc002 删除你从黑名单帐户 重要提示您的 josemonkeyorg 帐户检测到黑名单服务器上 而这将导致最电子邮件的垃圾邮件或失败输送直至该帐户被阻止 如果你想继续使用您的电子邮件帐户 现在激活 注意不作回应此消息您的帐户将被从数据库中受阻 要更改您收到安全警告点击这里 fri 29 jul 2016 190723 0200 warning josemonkeyorg mailbox blacklisted\n",
      "\n",
      "Label:1 (Spam email)\n",
      "Text:host manager teststliningcom server message dear josemonkeyorg received 14 unread messages create space mailbox receive pending messages mailbox database full view 14 unread inbox messages however create space mailbox email data lost permanently regards email administrator message autogenerated email security server replies sent email delivered email meant josemonkeyorg server message dear josemonkeyorg received 14 unread messages create space mailbox receive pending messages mailbox database full view 14 unread inbox messages however create space mailbox email data lost permanently regardsemail administrator message autogenerated email security server replies sent email delivered email meant josemonkeyorg mon 01 aug 2016 203113 0400 josemonkeyorg 14 unread inbox\n",
      "\n"
     ]
    }
   ],
   "source": [
    "# Let's visualize some random samples\n",
    "random_index = random.randint(0,len(phishing_email_df)-2)\n",
    "for row in phishing_email_df[['text_combined','label']][random_index:random_index+2].itertuples():\n",
    "    _,text,label = row\n",
    "    print(f\"Label:{label}\",\"(Spam email)\" if label==1 else \"(Legitimate email)\")\n",
    "    print(f\"Text:{text}\\n\")"
   ]
  },
  {
   "cell_type": "markdown",
   "id": "9a73bbf7-623f-4bbd-8aeb-a84eff48ec60",
   "metadata": {},
   "source": [
    "# Preprocessing data"
   ]
  },
  {
   "cell_type": "code",
   "execution_count": 56,
   "id": "ac95bf73-3266-412a-a449-e3a33c27946b",
   "metadata": {},
   "outputs": [],
   "source": [
    "# Splitting data into training and test sets\n",
    "train_emails, test_emails, train_labels, test_labels = train_test_split(phishing_email_df.text_combined.to_numpy(),\n",
    "                                                                        phishing_email_df.label.to_numpy(),\n",
    "                                                                        test_size=0.2,shuffle=True,\n",
    "                                                                        stratify=phishing_email_df.label.to_numpy())"
   ]
  },
  {
   "cell_type": "code",
   "execution_count": 57,
   "id": "e90b5003-1075-47e8-bbf6-337f5284affb",
   "metadata": {},
   "outputs": [
    {
     "data": {
      "text/plain": [
       "((65988,), (65988,))"
      ]
     },
     "execution_count": 57,
     "metadata": {},
     "output_type": "execute_result"
    }
   ],
   "source": [
    "#Visualize our train data shapes\n",
    "train_emails.shape, train_labels.shape"
   ]
  },
  {
   "cell_type": "code",
   "execution_count": 58,
   "id": "44e41cde-bc16-4487-8929-f97e1fb0c6db",
   "metadata": {},
   "outputs": [
    {
     "data": {
      "text/plain": [
       "((16498,), (16498,))"
      ]
     },
     "execution_count": 58,
     "metadata": {},
     "output_type": "execute_result"
    }
   ],
   "source": [
    "#Visualize our test data shapes \n",
    "test_emails.shape, test_labels.shape"
   ]
  },
  {
   "cell_type": "markdown",
   "id": "d7497d90-07bb-4e54-b708-2842fc09f869",
   "metadata": {},
   "source": [
    "### Converting text into numbers"
   ]
  },
  {
   "cell_type": "code",
   "execution_count": 59,
   "id": "093627fd-4fae-4f90-85f9-1cc22ad20600",
   "metadata": {},
   "outputs": [],
   "source": [
    "# Create a tokenization and moddeling pipeline\n",
    "model = Pipeline([\n",
    "    ('tfidf', TfidfVectorizer()),\n",
    "    ('clf', MultinomialNB())\n",
    "])"
   ]
  },
  {
   "cell_type": "code",
   "execution_count": 60,
   "id": "256218dd-34d2-4dda-86f1-e88e33f06de3",
   "metadata": {},
   "outputs": [
    {
     "data": {
      "text/html": [
       "<style>#sk-container-id-4 {color: black;background-color: white;}#sk-container-id-4 pre{padding: 0;}#sk-container-id-4 div.sk-toggleable {background-color: white;}#sk-container-id-4 label.sk-toggleable__label {cursor: pointer;display: block;width: 100%;margin-bottom: 0;padding: 0.3em;box-sizing: border-box;text-align: center;}#sk-container-id-4 label.sk-toggleable__label-arrow:before {content: \"▸\";float: left;margin-right: 0.25em;color: #696969;}#sk-container-id-4 label.sk-toggleable__label-arrow:hover:before {color: black;}#sk-container-id-4 div.sk-estimator:hover label.sk-toggleable__label-arrow:before {color: black;}#sk-container-id-4 div.sk-toggleable__content {max-height: 0;max-width: 0;overflow: hidden;text-align: left;background-color: #f0f8ff;}#sk-container-id-4 div.sk-toggleable__content pre {margin: 0.2em;color: black;border-radius: 0.25em;background-color: #f0f8ff;}#sk-container-id-4 input.sk-toggleable__control:checked~div.sk-toggleable__content {max-height: 200px;max-width: 100%;overflow: auto;}#sk-container-id-4 input.sk-toggleable__control:checked~label.sk-toggleable__label-arrow:before {content: \"▾\";}#sk-container-id-4 div.sk-estimator input.sk-toggleable__control:checked~label.sk-toggleable__label {background-color: #d4ebff;}#sk-container-id-4 div.sk-label input.sk-toggleable__control:checked~label.sk-toggleable__label {background-color: #d4ebff;}#sk-container-id-4 input.sk-hidden--visually {border: 0;clip: rect(1px 1px 1px 1px);clip: rect(1px, 1px, 1px, 1px);height: 1px;margin: -1px;overflow: hidden;padding: 0;position: absolute;width: 1px;}#sk-container-id-4 div.sk-estimator {font-family: monospace;background-color: #f0f8ff;border: 1px dotted black;border-radius: 0.25em;box-sizing: border-box;margin-bottom: 0.5em;}#sk-container-id-4 div.sk-estimator:hover {background-color: #d4ebff;}#sk-container-id-4 div.sk-parallel-item::after {content: \"\";width: 100%;border-bottom: 1px solid gray;flex-grow: 1;}#sk-container-id-4 div.sk-label:hover label.sk-toggleable__label {background-color: #d4ebff;}#sk-container-id-4 div.sk-serial::before {content: \"\";position: absolute;border-left: 1px solid gray;box-sizing: border-box;top: 0;bottom: 0;left: 50%;z-index: 0;}#sk-container-id-4 div.sk-serial {display: flex;flex-direction: column;align-items: center;background-color: white;padding-right: 0.2em;padding-left: 0.2em;position: relative;}#sk-container-id-4 div.sk-item {position: relative;z-index: 1;}#sk-container-id-4 div.sk-parallel {display: flex;align-items: stretch;justify-content: center;background-color: white;position: relative;}#sk-container-id-4 div.sk-item::before, #sk-container-id-4 div.sk-parallel-item::before {content: \"\";position: absolute;border-left: 1px solid gray;box-sizing: border-box;top: 0;bottom: 0;left: 50%;z-index: -1;}#sk-container-id-4 div.sk-parallel-item {display: flex;flex-direction: column;z-index: 1;position: relative;background-color: white;}#sk-container-id-4 div.sk-parallel-item:first-child::after {align-self: flex-end;width: 50%;}#sk-container-id-4 div.sk-parallel-item:last-child::after {align-self: flex-start;width: 50%;}#sk-container-id-4 div.sk-parallel-item:only-child::after {width: 0;}#sk-container-id-4 div.sk-dashed-wrapped {border: 1px dashed gray;margin: 0 0.4em 0.5em 0.4em;box-sizing: border-box;padding-bottom: 0.4em;background-color: white;}#sk-container-id-4 div.sk-label label {font-family: monospace;font-weight: bold;display: inline-block;line-height: 1.2em;}#sk-container-id-4 div.sk-label-container {text-align: center;}#sk-container-id-4 div.sk-container {/* jupyter's `normalize.less` sets `[hidden] { display: none; }` but bootstrap.min.css set `[hidden] { display: none !important; }` so we also need the `!important` here to be able to override the default hidden behavior on the sphinx rendered scikit-learn.org. See: https://github.com/scikit-learn/scikit-learn/issues/21755 */display: inline-block !important;position: relative;}#sk-container-id-4 div.sk-text-repr-fallback {display: none;}</style><div id=\"sk-container-id-4\" class=\"sk-top-container\"><div class=\"sk-text-repr-fallback\"><pre>Pipeline(steps=[(&#x27;tfidf&#x27;, TfidfVectorizer()), (&#x27;clf&#x27;, MultinomialNB())])</pre><b>In a Jupyter environment, please rerun this cell to show the HTML representation or trust the notebook. <br />On GitHub, the HTML representation is unable to render, please try loading this page with nbviewer.org.</b></div><div class=\"sk-container\" hidden><div class=\"sk-item sk-dashed-wrapped\"><div class=\"sk-label-container\"><div class=\"sk-label sk-toggleable\"><input class=\"sk-toggleable__control sk-hidden--visually\" id=\"sk-estimator-id-10\" type=\"checkbox\" ><label for=\"sk-estimator-id-10\" class=\"sk-toggleable__label sk-toggleable__label-arrow\">Pipeline</label><div class=\"sk-toggleable__content\"><pre>Pipeline(steps=[(&#x27;tfidf&#x27;, TfidfVectorizer()), (&#x27;clf&#x27;, MultinomialNB())])</pre></div></div></div><div class=\"sk-serial\"><div class=\"sk-item\"><div class=\"sk-estimator sk-toggleable\"><input class=\"sk-toggleable__control sk-hidden--visually\" id=\"sk-estimator-id-11\" type=\"checkbox\" ><label for=\"sk-estimator-id-11\" class=\"sk-toggleable__label sk-toggleable__label-arrow\">TfidfVectorizer</label><div class=\"sk-toggleable__content\"><pre>TfidfVectorizer()</pre></div></div></div><div class=\"sk-item\"><div class=\"sk-estimator sk-toggleable\"><input class=\"sk-toggleable__control sk-hidden--visually\" id=\"sk-estimator-id-12\" type=\"checkbox\" ><label for=\"sk-estimator-id-12\" class=\"sk-toggleable__label sk-toggleable__label-arrow\">MultinomialNB</label><div class=\"sk-toggleable__content\"><pre>MultinomialNB()</pre></div></div></div></div></div></div></div>"
      ],
      "text/plain": [
       "Pipeline(steps=[('tfidf', TfidfVectorizer()), ('clf', MultinomialNB())])"
      ]
     },
     "execution_count": 60,
     "metadata": {},
     "output_type": "execute_result"
    }
   ],
   "source": [
    "# Fit the pipeline to the training data\n",
    "model.fit(train_emails, train_labels)"
   ]
  },
  {
   "cell_type": "code",
   "execution_count": 61,
   "id": "3b2f76ed-773c-47a0-b835-58eab6b4df7f",
   "metadata": {},
   "outputs": [
    {
     "name": "stdout",
     "output_type": "stream",
     "text": [
      "The model achieves an accuracy of:97.75%\n"
     ]
    }
   ],
   "source": [
    "# Evaluate the model on test data\n",
    "model_score = model.score(test_emails, test_labels)\n",
    "print(f'The model achieves an accuracy of:{model_score*100:.2f}%')"
   ]
  },
  {
   "cell_type": "code",
   "execution_count": 62,
   "id": "9e4f53e9-0d08-4a10-a795-90f05257e51c",
   "metadata": {},
   "outputs": [],
   "source": [
    "#Making prediction with the model\n",
    "pred_labels = model.predict(test_emails)"
   ]
  },
  {
   "cell_type": "code",
   "execution_count": 63,
   "id": "928f903b-5687-472f-9b66-10c3bd3a43a3",
   "metadata": {},
   "outputs": [
    {
     "data": {
      "image/png": "[encoded data removed]",
      "text/plain": [
       "<Figure size 800x550 with 1 Axes>"
      ]
     },
     "metadata": {},
     "output_type": "display_data"
    },
    {
     "name": "stdout",
     "output_type": "stream",
     "text": [
      "              precision    recall  f1-score   support\n",
      "\n",
      "           0       0.96      0.99      0.98      7919\n",
      "           1       0.99      0.97      0.98      8579\n",
      "\n",
      "    accuracy                           0.98     16498\n",
      "   macro avg       0.98      0.98      0.98     16498\n",
      "weighted avg       0.98      0.98      0.98     16498\n",
      "\n"
     ]
    }
   ],
   "source": [
    "# Visualize a ConfusionMatrix and classification report\n",
    "cm = ConfusionMatrix(model)\n",
    "cm.fit(train_emails, train_labels)\n",
    "cm.score(test_emails, test_labels)\n",
    "cm.show();\n",
    "print(classification_report(test_labels, pred_labels))"
   ]
  }
 ],
 "metadata": {
  "kernelspec": {
   "display_name": "Python 3 (ipykernel)",
   "language": "python",
   "name": "python3"
  },
  "language_info": {
   "codemirror_mode": {
    "name": "ipython",
    "version": 3
   },
   "file_extension": ".py",
   "mimetype": "text/x-python",
   "name": "python",
   "nbconvert_exporter": "python",
   "pygments_lexer": "ipython3",
   "version": "3.11.7"
  }
 },
 "nbformat": 4,
 "nbformat_minor": 5
}
